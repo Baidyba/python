{
 "cells": [
  {
   "cell_type": "markdown",
   "id": "ab1416e9",
   "metadata": {},
   "source": [
    "# Importation des bibliothèques nécessaires"
   ]
  },
  {
   "cell_type": "code",
   "execution_count": 1,
   "id": "52be399d",
   "metadata": {},
   "outputs": [
    {
     "name": "stderr",
     "output_type": "stream",
     "text": [
      "[nltk_data] Downloading package punkt to\n",
      "[nltk_data]     C:\\Users\\Hp\\AppData\\Roaming\\nltk_data...\n",
      "[nltk_data]   Package punkt is already up-to-date!\n",
      "[nltk_data] Downloading package averaged_perceptron_tagger to\n",
      "[nltk_data]     C:\\Users\\Hp\\AppData\\Roaming\\nltk_data...\n",
      "[nltk_data]   Package averaged_perceptron_tagger is already up-to-\n",
      "[nltk_data]       date!\n"
     ]
    }
   ],
   "source": [
    "import docx\n",
    "import nltk\n",
    "nltk.download('punkt')\n",
    "nltk.download('averaged_perceptron_tagger')\n",
    "from nltk.tokenize import word_tokenize, sent_tokenize\n",
    "from nltk.corpus import stopwords\n",
    "from nltk.stem import WordNetLemmatizer\n",
    "import string\n",
    "import streamlit as st\n",
    "import speech_recognition as sr"
   ]
  },
  {
   "cell_type": "markdown",
   "id": "4db8a0b8",
   "metadata": {},
   "source": [
    "# Chargement et prétraitement des données"
   ]
  },
  {
   "cell_type": "code",
   "execution_count": 2,
   "id": "cc2c90d5",
   "metadata": {},
   "outputs": [],
   "source": [
    "# Chargement du fichier texte et prétraitement des données\n",
    "\n",
    "text=docx.Document(\"Energie_solaire.docx\")"
   ]
  },
  {
   "cell_type": "code",
   "execution_count": 3,
   "id": "fa9e8b99",
   "metadata": {},
   "outputs": [],
   "source": [
    "def preprocess(sentence): \n",
    "    \n",
    "    # Appliquer la tokenization sur la phrase\n",
    "    \n",
    "    tokens = sent_tokenize(sentence)\n",
    "    \n",
    "    # Retourner les tokens\n",
    "    \n",
    "    return tokens"
   ]
  },
  {
   "cell_type": "code",
   "execution_count": 4,
   "id": "4991ecf0",
   "metadata": {},
   "outputs": [],
   "source": [
    "\n",
    "corpus = []\n",
    "for paragraph in text.paragraphs:\n",
    "    \n",
    "    # Prétraiter chaque phrase du paragraphe\n",
    "    \n",
    "    sentences = preprocess(paragraph.text)\n",
    "    \n",
    "    # Ajouter les phrases prétraitées au corpus\n",
    "    \n",
    "    corpus.extend(sentences)"
   ]
  },
  {
   "cell_type": "markdown",
   "id": "0a8b5f1e",
   "metadata": {},
   "source": [
    "# Fonction de transcription vocale"
   ]
  },
  {
   "cell_type": "code",
   "execution_count": 5,
   "id": "9151fb0e",
   "metadata": {},
   "outputs": [],
   "source": [
    "def transcribe_speech():\n",
    "    r = sr.Recognizer()\n",
    "    with sr.Microphone() as source:\n",
    "        st.write(\"Parlez maintenant...\")\n",
    "        audio = r.listen(source)\n",
    "\n",
    "    try:\n",
    "        text = r.recognize_google(audio, language=\"fr-FR\")  # Utilisation de l'API Google Speech Recognition pour la transcription\n",
    "        return text\n",
    "    except sr.UnknownValueError:\n",
    "        st.write(\"Impossible de transcrire la parole\")\n",
    "        return \"\"\n",
    "    except sr.RequestError:\n",
    "        st.write(\"Erreur lors de la connexion à l'API de reconnaissance vocale\")\n",
    "        return \"\""
   ]
  },
  {
   "cell_type": "code",
   "execution_count": null,
   "id": "aeda7148",
   "metadata": {},
   "outputs": [
    {
     "name": "stderr",
     "output_type": "stream",
     "text": [
      "2023-07-12 16:45:54.102 \n",
      "  \u001b[33m\u001b[1mWarning:\u001b[0m to view this Streamlit app on a browser, run it with the following\n",
      "  command:\n",
      "\n",
      "    streamlit run C:\\Users\\Hp\\anaconda3\\lib\\site-packages\\ipykernel_launcher.py [ARGUMENTS]\n"
     ]
    }
   ],
   "source": [
    "## Modification de la fonction de chatbot\n",
    "def chatbot(input_text):\n",
    "    # Code de génération de la réponse du chatbot\n",
    "\n",
    "    réponse=chatbot(input_text)\n",
    "\n",
    "\n",
    "#Création de l'application Streamlit\n",
    "def main():\n",
    "    st.title(\"Chatbot vocal\")\n",
    "\n",
    "    # Demande à l'utilisateur de choisir le mode d'entrée : texte ou vocal\n",
    "    input_mode = st.selectbox(\"Sélectionnez le mode d'entrée\", [\"Texte\", \"Vocal\"])\n",
    "\n",
    "    if input_mode == \"Texte\":\n",
    "        user_input = st.text_input(\"Saisissez votre message\")\n",
    "        réponse = chatbot(user_input)\n",
    "        st.text_area(\"réponse\", value=réponse, height=200)\n",
    "    elif input_mode == \"Vocal\":\n",
    "        user_input = transcribe_speech()\n",
    "        réponse = chatbot(user_input)\n",
    "        st.text_area(\"réponse\", value=réponse, height=200)\n",
    "\n",
    "if __name__ == \"__main__\":\n",
    "    main()\n"
   ]
  },
  {
   "cell_type": "code",
   "execution_count": null,
   "id": "61efdc5a",
   "metadata": {},
   "outputs": [],
   "source": []
  }
 ],
 "metadata": {
  "kernelspec": {
   "display_name": "Python 3 (ipykernel)",
   "language": "python",
   "name": "python3"
  },
  "language_info": {
   "codemirror_mode": {
    "name": "ipython",
    "version": 3
   },
   "file_extension": ".py",
   "mimetype": "text/x-python",
   "name": "python",
   "nbconvert_exporter": "python",
   "pygments_lexer": "ipython3",
   "version": "3.10.9"
  }
 },
 "nbformat": 4,
 "nbformat_minor": 5
}
