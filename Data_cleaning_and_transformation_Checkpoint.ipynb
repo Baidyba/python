{
 "cells": [
  {
   "cell_type": "markdown",
   "id": "09e30578",
   "metadata": {},
   "source": [
    "# Partie 1 : Exploration de données avec Pandas"
   ]
  },
  {
   "cell_type": "code",
   "execution_count": 4,
   "id": "69d7aa31",
   "metadata": {},
   "outputs": [
    {
     "name": "stdout",
     "output_type": "stream",
     "text": [
      "   SNo ObservationDate Province/State  Country/Region      Last Update  \\\n",
      "0    1      01/22/2020          Anhui  Mainland China  1/22/2020 17:00   \n",
      "1    2      01/22/2020        Beijing  Mainland China  1/22/2020 17:00   \n",
      "2    3      01/22/2020      Chongqing  Mainland China  1/22/2020 17:00   \n",
      "3    4      01/22/2020         Fujian  Mainland China  1/22/2020 17:00   \n",
      "4    5      01/22/2020          Gansu  Mainland China  1/22/2020 17:00   \n",
      "\n",
      "   Confirmed  Deaths  Recovered  \n",
      "0        1.0     0.0        0.0  \n",
      "1       14.0     0.0        0.0  \n",
      "2        6.0     0.0        0.0  \n",
      "3        1.0     0.0        0.0  \n",
      "4        0.0     0.0        0.0  \n",
      "<class 'pandas.core.frame.DataFrame'>\n",
      "RangeIndex: 306429 entries, 0 to 306428\n",
      "Data columns (total 8 columns):\n",
      " #   Column           Non-Null Count   Dtype  \n",
      "---  ------           --------------   -----  \n",
      " 0   SNo              306429 non-null  int64  \n",
      " 1   ObservationDate  306429 non-null  object \n",
      " 2   Province/State   228329 non-null  object \n",
      " 3   Country/Region   306429 non-null  object \n",
      " 4   Last Update      306429 non-null  object \n",
      " 5   Confirmed        306429 non-null  float64\n",
      " 6   Deaths           306429 non-null  float64\n",
      " 7   Recovered        306429 non-null  float64\n",
      "dtypes: float64(3), int64(1), object(4)\n",
      "memory usage: 18.7+ MB\n",
      "None\n"
     ]
    }
   ],
   "source": [
    "#Utilisons pandas pour lire le fichier dans une trame de données.\n",
    "#Utilisons des pandas pour explorer l'ensemble de données\n",
    "\n",
    "import pandas as pd\n",
    "\n",
    "df=pd.read_csv('covid_19_data.csv')\n",
    "print(df.head())\n",
    "print(df.info())"
   ]
  },
  {
   "cell_type": "code",
   "execution_count": null,
   "id": "fb62f15b",
   "metadata": {},
   "outputs": [],
   "source": [
    "# Recherche de valeurs manquantes dans l'ensemble de données.\n",
    "print(df.isnull().sum())  #la variable catégorique Province/State a 78100 valeurs manquantes."
   ]
  },
  {
   "cell_type": "code",
   "execution_count": 8,
   "id": "ec7b9474",
   "metadata": {},
   "outputs": [
    {
     "name": "stdout",
     "output_type": "stream",
     "text": [
      "SNo                0\n",
      "ObservationDate    0\n",
      "Province/State     0\n",
      "Country/Region     0\n",
      "Last Update        0\n",
      "Confirmed          0\n",
      "Deaths             0\n",
      "Recovered          0\n",
      "dtype: int64\n"
     ]
    }
   ],
   "source": [
    "# On utilise le mode pour ramplacer les valeurs manquantes\n",
    "df['Province/State'].fillna(df['Province/State'].mode()[0], inplace=True)\n",
    "print(df.isnull().sum()) "
   ]
  },
  {
   "cell_type": "code",
   "execution_count": 9,
   "id": "48ef6b86",
   "metadata": {},
   "outputs": [
    {
     "name": "stdout",
     "output_type": "stream",
     "text": [
      "                 SNo     Confirmed         Deaths     Recovered\n",
      "count  306429.000000  3.064290e+05  306429.000000  3.064290e+05\n",
      "mean   153215.000000  8.567091e+04    2036.403268  5.042029e+04\n",
      "std     88458.577156  2.775516e+05    6410.938048  2.015124e+05\n",
      "min         1.000000 -3.028440e+05    -178.000000 -8.544050e+05\n",
      "25%     76608.000000  1.042000e+03      13.000000  1.100000e+01\n",
      "50%    153215.000000  1.037500e+04     192.000000  1.751000e+03\n",
      "75%    229822.000000  5.075200e+04    1322.000000  2.027000e+04\n",
      "max    306429.000000  5.863138e+06  112385.000000  6.399531e+06\n"
     ]
    }
   ],
   "source": [
    "#Utilisez pandas pour calculer des statistiques récapitulatives pour l'ensemble de données\n",
    "\n",
    "import pandas as pd\n",
    "print(df.describe())"
   ]
  },
  {
   "cell_type": "markdown",
   "id": "2cc5bcdf",
   "metadata": {},
   "source": [
    "# Partie 2 : Exploration des données avec le profilage Pandas"
   ]
  },
  {
   "cell_type": "code",
   "execution_count": 14,
   "id": "5176cf9c",
   "metadata": {},
   "outputs": [
    {
     "data": {
      "application/vnd.jupyter.widget-view+json": {
       "model_id": "58386062013b4bce918393d63a81f26b",
       "version_major": 2,
       "version_minor": 0
      },
      "text/plain": [
       "Summarize dataset:   0%|          | 0/5 [00:00<?, ?it/s]"
      ]
     },
     "metadata": {},
     "output_type": "display_data"
    },
    {
     "data": {
      "application/vnd.jupyter.widget-view+json": {
       "model_id": "f11cc4d6b93e41ce976d1a8e0cc60122",
       "version_major": 2,
       "version_minor": 0
      },
      "text/plain": [
       "Generate report structure:   0%|          | 0/1 [00:00<?, ?it/s]"
      ]
     },
     "metadata": {},
     "output_type": "display_data"
    },
    {
     "data": {
      "application/vnd.jupyter.widget-view+json": {
       "model_id": "cd156d87f6a24e5fb9972bb1a3328c1e",
       "version_major": 2,
       "version_minor": 0
      },
      "text/plain": [
       "Render HTML:   0%|          | 0/1 [00:00<?, ?it/s]"
      ]
     },
     "metadata": {},
     "output_type": "display_data"
    },
    {
     "name": "stderr",
     "output_type": "stream",
     "text": [
      "C:\\Users\\Hp\\anaconda3\\lib\\site-packages\\pandas_profiling\\profile_report.py:314: UserWarning: Extension .covid_19_data not supported. For now we assume .html was intended. To remove this warning, please use .html or .json.\n",
      "  warnings.warn(\n"
     ]
    },
    {
     "data": {
      "application/vnd.jupyter.widget-view+json": {
       "model_id": "6756566a89da4208914540854863a25c",
       "version_major": 2,
       "version_minor": 0
      },
      "text/plain": [
       "Export report to file:   0%|          | 0/1 [00:00<?, ?it/s]"
      ]
     },
     "metadata": {},
     "output_type": "display_data"
    }
   ],
   "source": [
    "#Utilisez le profilage pandas pour explorer l'ensemble de données.\n",
    "import pandas as pd\n",
    "\n",
    "from pandas_profiling import ProfileReport\n",
    "\n",
    "# Read in the data\n",
    "covid_19_data_df= pd.read_csv('covid_19_data.csv')\n",
    "profile = ProfileReport(covid_19_data_df, title='Pandas Profiling Report', explorative=True)\n",
    "profile.to_file('rapport.covid_19_data')"
   ]
  },
  {
   "cell_type": "code",
   "execution_count": null,
   "id": "5a5f23e4",
   "metadata": {},
   "outputs": [],
   "source": []
  }
 ],
 "metadata": {
  "kernelspec": {
   "display_name": "Python 3 (ipykernel)",
   "language": "python",
   "name": "python3"
  },
  "language_info": {
   "codemirror_mode": {
    "name": "ipython",
    "version": 3
   },
   "file_extension": ".py",
   "mimetype": "text/x-python",
   "name": "python",
   "nbconvert_exporter": "python",
   "pygments_lexer": "ipython3",
   "version": "3.10.9"
  }
 },
 "nbformat": 4,
 "nbformat_minor": 5
}
