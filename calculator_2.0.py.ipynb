{
 "cells": [
  {
   "cell_type": "code",
   "execution_count": null,
   "id": "2f2819b9",
   "metadata": {},
   "outputs": [],
   "source": [
    "#Créez une classe appelée \"Calculator\"\n",
    "class Calculator:\n",
    "    \n",
    "    #Un attribut de dictionnaire pour stocker les opérations mathématiques disponibles et leurs fonctions correspondantes\n",
    "\n",
    "    #Une méthode appelée \"init\" qui initialise le dictionnaire avec les opérations mathématiques de base (+, -, *, /) et les fonctions correspondantes\n",
    "     def __init__(self):\n",
    "        self.operations = { '+':\"x + y\",'-': \"x - y\",'*': \"x * y\",'/':\"x / y\" }\n",
    "        \n",
    "        #Une méthode appelée \"add_operation\" qui prend deux arguments : le symbole de l'opération et la fonction correspondante. Cette méthode doit ajouter la nouvelle opération et la nouvelle fonction au dictionnaire.\n",
    "        def add_operation(self, symbol, function):\n",
    "        self.operations[symbol] = functio\n",
    "        \n",
    "        #Une méthode appelée \"calculer\" qui prend trois arguments : le premier nombre, le symbole de l'opération et le deuxième nombre. Cette méthode doit utiliser le dictionnaire pour déterminer la fonction appropriée pour effectuer le calcul. Il doit également inclure la gestion des erreurs pour vérifier si le symbole d'opération est valide et si les valeurs d'entrée sont des nombres. Si une erreur est rencontrée, la méthode doit imprimer un message d'erreur et lever une exception.\n",
    "        def calculer(self, x, symbol, y):\n",
    "        if symbol not in self.operations:\n",
    "            print(\"Erreur : symbole d'opération invalide\")"
   ]
  }
 ],
 "metadata": {
  "kernelspec": {
   "display_name": "Python 3 (ipykernel)",
   "language": "python",
   "name": "python3"
  },
  "language_info": {
   "codemirror_mode": {
    "name": "ipython",
    "version": 3
   },
   "file_extension": ".py",
   "mimetype": "text/x-python",
   "name": "python",
   "nbconvert_exporter": "python",
   "pygments_lexer": "ipython3",
   "version": "3.10.9"
  }
 },
 "nbformat": 4,
 "nbformat_minor": 5
}
