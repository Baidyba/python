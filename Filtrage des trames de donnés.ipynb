{
 "cells": [
  {
   "cell_type": "code",
   "execution_count": 1,
   "id": "02e3c371",
   "metadata": {},
   "outputs": [
    {
     "name": "stdout",
     "output_type": "stream",
     "text": [
      "    Name Department  Âge    Sexe  Salaire  Expérience\n",
      "0   John         IT   30   Homme    50000           3\n",
      "1   Mary  Marketing   40   Femme    60000           7\n",
      "2    Bob      Sales   25   Homme    45000           2\n",
      "3  Sarah         IT   35  Femme     55000           5\n",
      "4    Tom    Finance   45   Homme    70000          10\n",
      "5   Lisa  Marketing   28   Femme    55000           4\n",
      "   Name Department  Âge   Sexe  Salaire  Expérience\n",
      "0  John         IT   30  Homme    50000           3\n",
      "1  Mary  Marketing   40  Femme    60000           7\n",
      "2   Bob      Sales   25  Homme    45000           2\n",
      "   Name Department  Âge   Sexe  Salaire  Expérience\n",
      "1  Mary  Marketing   40  Femme    60000           7\n",
      "5  Lisa  Marketing   28  Femme    55000           4\n",
      "   Âge    Sexe\n",
      "0   30   Homme\n",
      "1   40   Femme\n",
      "2   25   Homme\n",
      "3   35  Femme \n",
      "   Salaire  Expérience\n",
      "0    50000           3\n",
      "2    45000           2\n",
      "4    70000          10\n"
     ]
    }
   ],
   "source": [
    "#importer des pandas et créer un dataframe appelé \"employee_df\" \n",
    "\n",
    "import pandas as pd\n",
    "data = {'Name' : ['John', 'Mary', 'Bob', 'Sarah', 'Tom', 'Lisa'], 'Department' : ['IT', 'Marketing', 'Sales', 'IT', 'Finance', 'Marketing'], 'Âge' : [30, 40, 25, 35, 45, 28], 'Sexe' : ['Homme', 'Femme', 'Homme', 'Femme ', 'Homme', 'Femme'], 'Salaire' : [50000, 60000, 45000, 55000, 70000, 55000], 'Expérience' : [3, 7, 2, 5, 10, 4]}\n",
    "employee_df = pd.DataFrame(data)\n",
    "print(employee_df)\n",
    "\n",
    "#1.Utilisez la méthode iloc pour sélectionner les 3 premières lignes de la trame de données\n",
    "print(employee_df.iloc[:3])\n",
    "\n",
    "#2.Utilisez la méthode loc pour sélectionner toutes les lignes où le département est \"Marketing\".\n",
    "print(employee_df.loc[employee_df['Department']=='Marketing'])\n",
    "\n",
    "#3.\tUtilisez la méthode iloc pour sélectionner les colonnes Age et Gender pour les 4 premières lignes de la base de données\n",
    "\n",
    "print(employee_df.iloc[:4][['Âge', 'Sexe']])\n",
    "\n",
    "#4.Utilisez la méthode loc pour sélectionner les colonnes Salaire et Expérience pour toutes les lignes où le Sexe est \"Homme\".\n",
    "\n",
    "print(employee_df.loc[employee_df['Sexe'] == 'Homme'][[\"Salaire\", \"Expérience\"]]) "
   ]
  },
  {
   "cell_type": "code",
   "execution_count": null,
   "id": "3e780c98",
   "metadata": {},
   "outputs": [],
   "source": []
  }
 ],
 "metadata": {
  "kernelspec": {
   "display_name": "Python 3 (ipykernel)",
   "language": "python",
   "name": "python3"
  },
  "language_info": {
   "codemirror_mode": {
    "name": "ipython",
    "version": 3
   },
   "file_extension": ".py",
   "mimetype": "text/x-python",
   "name": "python",
   "nbconvert_exporter": "python",
   "pygments_lexer": "ipython3",
   "version": "3.10.9"
  }
 },
 "nbformat": 4,
 "nbformat_minor": 5
}
