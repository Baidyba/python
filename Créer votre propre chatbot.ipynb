{
 "cells": [
  {
   "cell_type": "code",
   "execution_count": 3,
   "id": "beba67da",
   "metadata": {},
   "outputs": [
    {
     "name": "stdout",
     "output_type": "stream",
     "text": [
      "Requirement already satisfied: python-docx in c:\\users\\hp\\anaconda3\\lib\\site-packages (0.8.11)\n",
      "Requirement already satisfied: lxml>=2.3.2 in c:\\users\\hp\\anaconda3\\lib\\site-packages (from python-docx) (4.9.1)\n",
      "Note: you may need to restart the kernel to use updated packages.\n"
     ]
    }
   ],
   "source": [
    "pip install python-docx"
   ]
  },
  {
   "cell_type": "markdown",
   "id": "569daaa6",
   "metadata": {},
   "source": [
    "# Importation des bibliothèques nécessaires "
   ]
  },
  {
   "cell_type": "code",
   "execution_count": 4,
   "id": "42f00be8",
   "metadata": {},
   "outputs": [],
   "source": [
    "import docx"
   ]
  },
  {
   "cell_type": "code",
   "execution_count": 5,
   "id": "21b75c5a",
   "metadata": {},
   "outputs": [
    {
     "name": "stderr",
     "output_type": "stream",
     "text": [
      "[nltk_data] Downloading package punkt to\n",
      "[nltk_data]     C:\\Users\\Hp\\AppData\\Roaming\\nltk_data...\n",
      "[nltk_data]   Package punkt is already up-to-date!\n",
      "[nltk_data] Downloading package averaged_perceptron_tagger to\n",
      "[nltk_data]     C:\\Users\\Hp\\AppData\\Roaming\\nltk_data...\n",
      "[nltk_data]   Package averaged_perceptron_tagger is already up-to-\n",
      "[nltk_data]       date!\n"
     ]
    }
   ],
   "source": [
    "import nltk\n",
    "nltk.download('punkt')\n",
    "nltk.download('averaged_perceptron_tagger')\n",
    "from nltk.tokenize import word_tokenize, sent_tokenize\n",
    "from nltk.corpus import stopwords\n",
    "from nltk.stem import WordNetLemmatizer\n",
    "import string\n",
    "import streamlit as st"
   ]
  },
  {
   "cell_type": "markdown",
   "id": "94dab4d5",
   "metadata": {},
   "source": [
    "# Chargement et prétraitement des données :"
   ]
  },
  {
   "cell_type": "code",
   "execution_count": 6,
   "id": "f4fea996",
   "metadata": {},
   "outputs": [],
   "source": [
    "# Chargement du fichier texte et prétraitement des données\n",
    "\n",
    "doc = docx.Document(\"La_dette_publique.docx\")"
   ]
  },
  {
   "cell_type": "code",
   "execution_count": 7,
   "id": "99daf62c",
   "metadata": {},
   "outputs": [],
   "source": [
    "#Définir une fonction pour prétraiter chaque phrase\n",
    "def preprocess(sentence): \n",
    "    \n",
    "    # Appliquer la tokenization sur la phrase\n",
    "    \n",
    "    tokens = sent_tokenize(sentence)\n",
    "    \n",
    "    # Retourner les tokens\n",
    "    \n",
    "    return tokens\n",
    "      "
   ]
  },
  {
   "cell_type": "code",
   "execution_count": 8,
   "id": "165b1372",
   "metadata": {},
   "outputs": [],
   "source": [
    "# Prétraitement de chaque phrase du texte\n",
    "\n",
    "corpus = []\n",
    "for paragraph in doc.paragraphs:\n",
    "    \n",
    "    # Prétraiter chaque phrase du paragraphe\n",
    "    \n",
    "    sentences = preprocess(paragraph.text)\n",
    "    \n",
    "    # Ajouter les phrases prétraitées au corpus\n",
    "    \n",
    "    corpus.extend(sentences)"
   ]
  },
  {
   "cell_type": "markdown",
   "id": "5f2ce33a",
   "metadata": {},
   "source": [
    "# Définition de la fonction de similarité :"
   ]
  },
  {
   "cell_type": "code",
   "execution_count": 16,
   "id": "8af8e95f",
   "metadata": {},
   "outputs": [],
   "source": [
    "# Définir une fonction pour trouver la phrase la plus pertinente à partir d'une requête\n",
    "\n",
    "def get_most_relevant_sentence(query):\n",
    "    query = preprocess(query)"
   ]
  },
  {
   "cell_type": "code",
   "execution_count": 20,
   "id": "4f006ec2",
   "metadata": {},
   "outputs": [],
   "source": [
    "query=\"la depense de l'année est de\""
   ]
  },
  {
   "cell_type": "code",
   "execution_count": 21,
   "id": "6da892aa",
   "metadata": {},
   "outputs": [],
   "source": [
    "# Définir une fonction pour trouver la phrase la plus pertinente à partir d'une requête\n",
    "\n",
    "def get_most_relevant_sentence(query):\n",
    "    query = preprocess(query)\n",
    "# Calculer la similarité entre la requête et chaque phrase du texte\n",
    "\n",
    "    max_similarity = 0\n",
    "    most_relevant_sentence = \"\"\n",
    "\n",
    "    for sentence in corpus:\n",
    "         similarity = len(set(query).intersection(sentence)) / float(len(set(query).union(sentence)))\n",
    "    if similarity > max_similarity:\n",
    "        max_similarity = similarity\n",
    "        most_relevant_sentence = \" \".join(sentence)\n",
    "    return most_relevant_sentence"
   ]
  },
  {
   "cell_type": "code",
   "execution_count": 22,
   "id": "5e406fbd",
   "metadata": {},
   "outputs": [],
   "source": [
    "def chatbot(question):\n",
    "    # Trouver la phrase la plus pertinente\n",
    "    most_relevant_sentence = get_most_relevant_sentence(question)\n",
    "    # Retourner la réponse\n",
    "    return most_relevant_sentence"
   ]
  },
  {
   "cell_type": "code",
   "execution_count": null,
   "id": "6ef6193b",
   "metadata": {},
   "outputs": [],
   "source": []
  }
 ],
 "metadata": {
  "kernelspec": {
   "display_name": "Python 3 (ipykernel)",
   "language": "python",
   "name": "python3"
  },
  "language_info": {
   "codemirror_mode": {
    "name": "ipython",
    "version": 3
   },
   "file_extension": ".py",
   "mimetype": "text/x-python",
   "name": "python",
   "nbconvert_exporter": "python",
   "pygments_lexer": "ipython3",
   "version": "3.10.9"
  }
 },
 "nbformat": 4,
 "nbformat_minor": 5
}
