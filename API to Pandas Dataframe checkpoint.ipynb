{
 "cells": [
  {
   "cell_type": "markdown",
   "id": "35587b7f",
   "metadata": {},
   "source": [
    "Objectif du point de contrôle\n",
    "Vous avez été chargé de collecter des données sur les films à partir de l'API Open Movie Database (OMDb) et de les stocker dans une base de données pandas. Les données doivent inclure le titre du film, l'année de sortie, le réalisateur et le classement."
   ]
  },
  {
   "cell_type": "code",
   "execution_count": 8,
   "id": "167e874c",
   "metadata": {},
   "outputs": [],
   "source": [
    "## Utilisez la bibliothèque de requêtes pour envoyer une requête à l'API OMDb afin de récupérer des données sur les 10 meilleurs films\n",
    "\n",
    "import requests \n",
    "response = requests.get(\"http://www.omdbapi.com/?apikey=b3316721&s=*&type=movie&page=1\")"
   ]
  },
  {
   "cell_type": "code",
   "execution_count": 9,
   "id": "415e5d6c",
   "metadata": {},
   "outputs": [],
   "source": [
    "##Analysez les données à l'aide de la bibliothèque json pour extraire le titre, l'année, le réalisateur et le classement de chaque film.\n",
    "\n",
    "response = requests.get(\"http://www.omdbapi.com/?apikey=b3316721&s=*&type=movie&page=1\") \n",
    "movie= response.json()"
   ]
  },
  {
   "cell_type": "code",
   "execution_count": 10,
   "id": "536ebacd",
   "metadata": {},
   "outputs": [],
   "source": [
    "##Stockez les données extraites dans une base de données pandas avec les noms de colonne appropriés\n",
    "\n",
    "import pandas as pd\n",
    "df = pd.DataFrame(movie, columns=['titre', 'année', 'réalisateur', 'classement'])"
   ]
  },
  {
   "cell_type": "code",
   "execution_count": 11,
   "id": "2e183be4",
   "metadata": {},
   "outputs": [
    {
     "name": "stdout",
     "output_type": "stream",
     "text": [
      "Empty DataFrame\n",
      "Columns: [titre, année, réalisateur, classement]\n",
      "Index: []\n"
     ]
    }
   ],
   "source": [
    "##Imprimez la trame de données pour vérifier que les données ont été stockées avec succès\n",
    "\n",
    "print(df.head())"
   ]
  },
  {
   "cell_type": "code",
   "execution_count": null,
   "id": "48d2183a",
   "metadata": {},
   "outputs": [],
   "source": []
  }
 ],
 "metadata": {
  "kernelspec": {
   "display_name": "Python 3 (ipykernel)",
   "language": "python",
   "name": "python3"
  },
  "language_info": {
   "codemirror_mode": {
    "name": "ipython",
    "version": 3
   },
   "file_extension": ".py",
   "mimetype": "text/x-python",
   "name": "python",
   "nbconvert_exporter": "python",
   "pygments_lexer": "ipython3",
   "version": "3.10.9"
  }
 },
 "nbformat": 4,
 "nbformat_minor": 5
}
