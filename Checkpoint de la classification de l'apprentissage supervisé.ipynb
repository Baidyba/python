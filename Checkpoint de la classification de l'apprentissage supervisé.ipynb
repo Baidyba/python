{
 "cells": [
  {
   "cell_type": "markdown",
   "id": "0d9efa73",
   "metadata": {},
   "source": [
    "# Partie 1 Régression logistique"
   ]
  },
  {
   "cell_type": "code",
   "execution_count": 67,
   "id": "ea5329ba",
   "metadata": {},
   "outputs": [],
   "source": [
    "## Prétraitement des données\n",
    "\n",
    "import pandas as pd\n",
    "\n",
    "titanic=pd.read_csv('titanic-passengers.csv',sep=\";\")"
   ]
  },
  {
   "cell_type": "code",
   "execution_count": 68,
   "id": "56804629",
   "metadata": {},
   "outputs": [],
   "source": [
    "titanic=titanic[['Survived','Pclass','Sex','Age']]\n"
   ]
  },
  {
   "cell_type": "code",
   "execution_count": 69,
   "id": "e77222f0",
   "metadata": {},
   "outputs": [],
   "source": [
    "from sklearn.preprocessing import LabelEncoder\n",
    "encoder= LabelEncoder()\n",
    "titanic['Survived']=encoder.fit_transform(titanic['Survived'])"
   ]
  },
  {
   "cell_type": "code",
   "execution_count": 70,
   "id": "f257d290",
   "metadata": {},
   "outputs": [
    {
     "data": {
      "text/html": [
       "<div>\n",
       "<style scoped>\n",
       "    .dataframe tbody tr th:only-of-type {\n",
       "        vertical-align: middle;\n",
       "    }\n",
       "\n",
       "    .dataframe tbody tr th {\n",
       "        vertical-align: top;\n",
       "    }\n",
       "\n",
       "    .dataframe thead th {\n",
       "        text-align: right;\n",
       "    }\n",
       "</style>\n",
       "<table border=\"1\" class=\"dataframe\">\n",
       "  <thead>\n",
       "    <tr style=\"text-align: right;\">\n",
       "      <th></th>\n",
       "      <th>Survived</th>\n",
       "      <th>Pclass</th>\n",
       "      <th>Sex</th>\n",
       "      <th>Age</th>\n",
       "    </tr>\n",
       "  </thead>\n",
       "  <tbody>\n",
       "    <tr>\n",
       "      <th>0</th>\n",
       "      <td>0</td>\n",
       "      <td>2</td>\n",
       "      <td>0</td>\n",
       "      <td>28.0</td>\n",
       "    </tr>\n",
       "    <tr>\n",
       "      <th>1</th>\n",
       "      <td>0</td>\n",
       "      <td>3</td>\n",
       "      <td>0</td>\n",
       "      <td>25.0</td>\n",
       "    </tr>\n",
       "    <tr>\n",
       "      <th>2</th>\n",
       "      <td>0</td>\n",
       "      <td>3</td>\n",
       "      <td>0</td>\n",
       "      <td>20.0</td>\n",
       "    </tr>\n",
       "    <tr>\n",
       "      <th>3</th>\n",
       "      <td>0</td>\n",
       "      <td>3</td>\n",
       "      <td>1</td>\n",
       "      <td>29.0</td>\n",
       "    </tr>\n",
       "    <tr>\n",
       "      <th>4</th>\n",
       "      <td>0</td>\n",
       "      <td>1</td>\n",
       "      <td>0</td>\n",
       "      <td>31.0</td>\n",
       "    </tr>\n",
       "  </tbody>\n",
       "</table>\n",
       "</div>"
      ],
      "text/plain": [
       "   Survived  Pclass  Sex   Age\n",
       "0         0       2    0  28.0\n",
       "1         0       3    0  25.0\n",
       "2         0       3    0  20.0\n",
       "3         0       3    1  29.0\n",
       "4         0       1    0  31.0"
      ]
     },
     "execution_count": 70,
     "metadata": {},
     "output_type": "execute_result"
    }
   ],
   "source": [
    "titanic.dropna(axis=0, inplace=True) #pour remplacer les valeurs manquantes\n",
    "titanic['Sex'].replace(['male','female'],[0,1], inplace=True)\n",
    "titanic.head()"
   ]
  },
  {
   "cell_type": "code",
   "execution_count": 71,
   "id": "94a9829d",
   "metadata": {},
   "outputs": [
    {
     "name": "stdout",
     "output_type": "stream",
     "text": [
      "Accuracy=0.81\n"
     ]
    }
   ],
   "source": [
    "#1. Appliquez la régression logistique. \n",
    "\n",
    "from sklearn.model_selection import train_test_split\n",
    "from sklearn.linear_model import LogisticRegression\n",
    "\n",
    "#features extraction\n",
    "x = titanic[['Pclass', 'Sex','Age']]\n",
    "y =titanic['Survived']\n",
    "\n",
    "x_train,x_test,y_train,y_test = train_test_split(x,y,test_size=0.25,random_state=0)  \n",
    "#fractionnement des données avec une taille de test de 25%\n",
    "\n",
    "logreg = LogisticRegression() #construire notre modèle logistique\n",
    "\n",
    "logreg.fit(x_train, y_train)  #Ajustement des données d'entraînement\n",
    "\n",
    "y_pred  = logreg.predict(x_test) ##Tester les performances du modèle\n",
    "\n",
    "print(\"Accuracy={:.2f}\".format(logreg.score(x_test, y_test)))\n"
   ]
  },
  {
   "cell_type": "code",
   "execution_count": 72,
   "id": "dcd1d6b1",
   "metadata": {},
   "outputs": [],
   "source": [
    "#On a une précision de 81% ce qui veut dire 81% du temps notre modèle effectue une bonne prédiction,il arrive à prédire si un passager a survécu ou malheureusement non"
   ]
  },
  {
   "cell_type": "code",
   "execution_count": 73,
   "id": "5281af52",
   "metadata": {},
   "outputs": [
    {
     "data": {
      "text/plain": [
       "<AxesSubplot: xlabel='Predicted', ylabel='Actual'>"
      ]
     },
     "execution_count": 73,
     "metadata": {},
     "output_type": "execute_result"
    },
    {
     "data": {
      "image/png": "[encoded data removed]",
      "text/plain": [
       "<Figure size 640x480 with 2 Axes>"
      ]
     },
     "metadata": {},
     "output_type": "display_data"
    }
   ],
   "source": [
    "#Utilisons la matrice de confusion pour valider votre modèle\n",
    "import seaborn as sns\n",
    "confusion_matrix = pd.crosstab(y_test, y_pred, rownames=['Actual'], colnames=['Predicted'])\n",
    "sns.heatmap(confusion_matrix, annot=True)"
   ]
  },
  {
   "cell_type": "code",
   "execution_count": 74,
   "id": "d083d68c",
   "metadata": {},
   "outputs": [
    {
     "name": "stdout",
     "output_type": "stream",
     "text": [
      "              precision    recall  f1-score   support\n",
      "\n",
      "           0       0.86      0.83      0.84       111\n",
      "           1       0.74      0.78      0.76        68\n",
      "\n",
      "    accuracy                           0.81       179\n",
      "   macro avg       0.80      0.80      0.80       179\n",
      "weighted avg       0.81      0.81      0.81       179\n",
      "\n"
     ]
    }
   ],
   "source": [
    "print(classification_report(y_test, y_pred))"
   ]
  },
  {
   "cell_type": "code",
   "execution_count": 77,
   "id": "e6f71cc3",
   "metadata": {},
   "outputs": [
    {
     "name": "stdout",
     "output_type": "stream",
     "text": [
      "[[92 19]\n",
      " [15 53]]\n",
      "AUC :  0.8041202967673555\n"
     ]
    }
   ],
   "source": [
    "#Une autre matrice de validation pour la classification est ROC / AUC , faites vos recherches sur eux, expliquez-les et appliquez-les dans notre cas\n",
    "\n",
    "from sklearn.metrics import confusion_matrix, roc_curve, auc\n",
    "\n",
    "print(confusion_matrix(y_test, y_pred))\n",
    "\n",
    "fpr, tpr, thresholds = roc_curve(y_test, y_pred)\n",
    "\n",
    "roc_auc = auc(fpr, tpr)\n",
    "print(\"AUC : \", roc_auc)\n",
    "\n",
    "\n"
   ]
  },
  {
   "cell_type": "markdown",
   "id": "da97ed52",
   "metadata": {},
   "source": [
    "# Partie 2 KNN"
   ]
  },
  {
   "cell_type": "code",
   "execution_count": 81,
   "id": "b7fc75cd",
   "metadata": {},
   "outputs": [
    {
     "data": {
      "text/plain": [
       "0.8305322128851541"
      ]
     },
     "execution_count": 81,
     "metadata": {},
     "output_type": "execute_result"
    }
   ],
   "source": [
    "#1. Appliquez le KNN et prédisez votre modèle\n",
    "\n",
    "from sklearn.neighbors import KNeighborsClassifier\n",
    "\n",
    "\n",
    "knn=KNeighborsClassifier()  #construire notre classificateur knn\n",
    "\n",
    "knn.fit(x,y)      #Entraînement du classificateur KNN\n",
    "\n",
    "knn.score(x,y)    #Tester les performances du modèle\n",
    "\n"
   ]
  },
  {
   "cell_type": "code",
   "execution_count": null,
   "id": "745f8649",
   "metadata": {},
   "outputs": [],
   "source": [
    "##On a une précision de 83% ce qui veut dire 83% du temps notre modèle effectue une bonne prédiction,il arrive à prédire si un passager a survécu ou malheureusement non"
   ]
  },
  {
   "cell_type": "code",
   "execution_count": 82,
   "id": "e34915ed",
   "metadata": {},
   "outputs": [
    {
     "name": "stdout",
     "output_type": "stream",
     "text": [
      "Accuracy for k= 1 is: 0.71\n",
      "Accuracy for k= 2 is: 0.71\n",
      "Accuracy for k= 3 is: 0.76\n",
      "Accuracy for k= 4 is: 0.75\n",
      "Accuracy for k= 5 is: 0.75\n",
      "Accuracy for k= 6 is: 0.72\n",
      "Accuracy for k= 7 is: 0.76\n",
      "Accuracy for k= 8 is: 0.76\n",
      "Accuracy for k= 9 is: 0.75\n",
      "Accuracy for k= 10 is: 0.75\n",
      "Accuracy for k= 11 is: 0.75\n",
      "Accuracy for k= 12 is: 0.73\n",
      "Accuracy for k= 13 is: 0.77\n",
      "Accuracy for k= 14 is: 0.78\n",
      "Accuracy for k= 15 is: 0.8\n",
      "Accuracy for k= 16 is: 0.79\n",
      "Accuracy for k= 17 is: 0.8\n",
      "Accuracy for k= 18 is: 0.8\n",
      "Accuracy for k= 19 is: 0.82\n",
      "Accuracy for k= 20 is: 0.83\n",
      "Accuracy for k= 21 is: 0.83\n",
      "Accuracy for k= 22 is: 0.83\n",
      "Accuracy for k= 23 is: 0.79\n",
      "Accuracy for k= 24 is: 0.8\n",
      "Accuracy for k= 25 is: 0.78\n",
      "Accuracy for k= 26 is: 0.81\n",
      "Accuracy for k= 27 is: 0.81\n",
      "Accuracy for k= 28 is: 0.83\n",
      "Accuracy for k= 29 is: 0.8\n"
     ]
    }
   ],
   "source": [
    "#2. Choisissez le nombre optimal de voisins\n",
    "n_neighbors=30\n",
    "scores=[]\n",
    "for k in range(1,30):\n",
    "    knn=KNeighborsClassifier(n_neighbors-k)\n",
    "    knn.fit(x_train,y_train)\n",
    "    y_pred=knn.predict(x_test)\n",
    "    print('Accuracy for k=',k,'is:',round(accuracy_score(y_pred,y_test),2))\n",
    "    scores.append(round(accuracy_score(y_pred,y_test),2))"
   ]
  },
  {
   "cell_type": "code",
   "execution_count": null,
   "id": "105674fa",
   "metadata": {},
   "outputs": [],
   "source": [
    "#K=28"
   ]
  },
  {
   "cell_type": "code",
   "execution_count": 83,
   "id": "84bee5e8",
   "metadata": {},
   "outputs": [
    {
     "data": {
      "text/plain": [
       "Text(0, 0.5, 'Testing Accuracy')"
      ]
     },
     "execution_count": 83,
     "metadata": {},
     "output_type": "execute_result"
    },
    {
     "data": {
      "image/png": "[encoded data removed]",
      "text/plain": [
       "<Figure size 640x480 with 1 Axes>"
      ]
     },
     "metadata": {},
     "output_type": "display_data"
    }
   ],
   "source": [
    "import matplotlib.pyplot as plt\n",
    "plt.plot(range(1,30),scores)\n",
    "plt.xlabel('Value K for KNN')\n",
    "plt.ylabel('Testing Accuracy')"
   ]
  },
  {
   "cell_type": "markdown",
   "id": "980bf6c9",
   "metadata": {},
   "source": [
    "# Partie 3 : Arbre de décision et forêt aléatoire"
   ]
  },
  {
   "cell_type": "code",
   "execution_count": 84,
   "id": "1427710d",
   "metadata": {},
   "outputs": [
    {
     "data": {
      "text/plain": [
       "0.896358543417367"
      ]
     },
     "execution_count": 84,
     "metadata": {},
     "output_type": "execute_result"
    }
   ],
   "source": [
    "#1. Appliquez l'arbre de décision et prédisez votre modèle\n",
    "\n",
    "from sklearn.tree import DecisionTreeClassifier\n",
    "\n",
    "tree=DecisionTreeClassifier()\n",
    "\n",
    "tree.fit(x,y)\n",
    "\n",
    "tree.score(x,y)"
   ]
  },
  {
   "cell_type": "code",
   "execution_count": 91,
   "id": "fba916a2",
   "metadata": {},
   "outputs": [
    {
     "ename": "ImportError",
     "evalue": "cannot import name 'graphviz' from 'sklearn.tree' (C:\\Users\\Hp\\anaconda3\\lib\\site-packages\\sklearn\\tree\\__init__.py)",
     "output_type": "error",
     "traceback": [
      "\u001b[1;31m---------------------------------------------------------------------------\u001b[0m",
      "\u001b[1;31mImportError\u001b[0m                               Traceback (most recent call last)",
      "Cell \u001b[1;32mIn[91], line 4\u001b[0m\n\u001b[0;32m      2\u001b[0m \u001b[38;5;28;01mfrom\u001b[39;00m \u001b[38;5;21;01msklearn\u001b[39;00m\u001b[38;5;21;01m.\u001b[39;00m\u001b[38;5;21;01mtree\u001b[39;00m \u001b[38;5;28;01mimport\u001b[39;00m DecisionTreeClassifier\n\u001b[0;32m      3\u001b[0m \u001b[38;5;28;01mfrom\u001b[39;00m \u001b[38;5;21;01msklearn\u001b[39;00m\u001b[38;5;21;01m.\u001b[39;00m\u001b[38;5;21;01mtree\u001b[39;00m \u001b[38;5;28;01mimport\u001b[39;00m export_graphviz\n\u001b[1;32m----> 4\u001b[0m \u001b[38;5;28;01mfrom\u001b[39;00m \u001b[38;5;21;01msklearn\u001b[39;00m\u001b[38;5;21;01m.\u001b[39;00m\u001b[38;5;21;01mtree\u001b[39;00m \u001b[38;5;28;01mimport\u001b[39;00m graphviz\n\u001b[0;32m      6\u001b[0m dot_data \u001b[38;5;241m=\u001b[39m export_graphviz(clf, out_file\u001b[38;5;241m=\u001b[39m\u001b[38;5;28;01mNone\u001b[39;00m)\n\u001b[0;32m      7\u001b[0m graph \u001b[38;5;241m=\u001b[39m graphviz\u001b[38;5;241m.\u001b[39mSource(dot_data)\n",
      "\u001b[1;31mImportError\u001b[0m: cannot import name 'graphviz' from 'sklearn.tree' (C:\\Users\\Hp\\anaconda3\\lib\\site-packages\\sklearn\\tree\\__init__.py)"
     ]
    }
   ],
   "source": [
    "#2. Tracez votre arbre de décision et essayez de lire les branches de l'arbre et de conclure une prédiction manuellement.\n",
    "from sklearn.tree import DecisionTreeClassifier\n",
    "from sklearn.tree import export_graphviz\n",
    "import graphviz\n",
    "\n",
    "dot_data = export_graphviz(clf, out_file=None)\n",
    "graph = graphviz.Source(dot_data)\n",
    "graph.render(\"titanic\")\n",
    "graph"
   ]
  },
  {
   "cell_type": "code",
   "execution_count": 92,
   "id": "8288efcf",
   "metadata": {},
   "outputs": [
    {
     "data": {
      "text/plain": [
       "0.896358543417367"
      ]
     },
     "execution_count": 92,
     "metadata": {},
     "output_type": "execute_result"
    }
   ],
   "source": [
    "#Utilisez une forêt aléatoire puis modifiez le nombre d'estimateurs\n",
    "\n",
    "from sklearn.ensemble import RandomForestClassifier\n",
    "\n",
    "clf=RandomForestClassifier()\n",
    "\n",
    "clf.fit(x,y)\n",
    "\n",
    "clf.score(x,y)\n",
    "\n"
   ]
  },
  {
   "cell_type": "code",
   "execution_count": null,
   "id": "b919d345",
   "metadata": {},
   "outputs": [],
   "source": []
  }
 ],
 "metadata": {
  "kernelspec": {
   "display_name": "Python 3 (ipykernel)",
   "language": "python",
   "name": "python3"
  },
  "language_info": {
   "codemirror_mode": {
    "name": "ipython",
    "version": 3
   },
   "file_extension": ".py",
   "mimetype": "text/x-python",
   "name": "python",
   "nbconvert_exporter": "python",
   "pygments_lexer": "ipython3",
   "version": "3.10.9"
  }
 },
 "nbformat": 4,
 "nbformat_minor": 5
}
