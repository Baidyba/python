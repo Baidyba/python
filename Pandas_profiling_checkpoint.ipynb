{
 "cells": [
  {
   "cell_type": "code",
   "execution_count": 5,
   "id": "53b6cc4c",
   "metadata": {},
   "outputs": [
    {
     "name": "stdout",
     "output_type": "stream",
     "text": [
      "   age  workclass  fnlwgt     education  educational-num      marital-status  \\\n",
      "0   25    Private  226802          11th                7       Never-married   \n",
      "1   38    Private   89814       HS-grad                9  Married-civ-spouse   \n",
      "2   28  Local-gov  336951    Assoc-acdm               12  Married-civ-spouse   \n",
      "3   44    Private  160323  Some-college               10  Married-civ-spouse   \n",
      "4   18          ?  103497  Some-college               10       Never-married   \n",
      "\n",
      "          occupation relationship   race  gender  capital-gain  capital-loss  \\\n",
      "0  Machine-op-inspct    Own-child  Black    Male             0             0   \n",
      "1    Farming-fishing      Husband  White    Male             0             0   \n",
      "2    Protective-serv      Husband  White    Male             0             0   \n",
      "3  Machine-op-inspct      Husband  Black    Male          7688             0   \n",
      "4                  ?    Own-child  White  Female             0             0   \n",
      "\n",
      "   hours-per-week native-country income  \n",
      "0              40  United-States  <=50K  \n",
      "1              50  United-States  <=50K  \n",
      "2              40  United-States   >50K  \n",
      "3              40  United-States   >50K  \n",
      "4              30  United-States  <=50K  \n"
     ]
    }
   ],
   "source": [
    "#Utilisez pandas pour lire le fichier dans une trame de données\n",
    "import pandas as pd\n",
    "\n",
    "df=pd.read_csv('adult.csv')\n",
    "print(df.head())"
   ]
  },
  {
   "cell_type": "code",
   "execution_count": 3,
   "id": "7ca143bf",
   "metadata": {},
   "outputs": [
    {
     "data": {
      "application/vnd.jupyter.widget-view+json": {
       "model_id": "22c77ab2e34c4defb7c1b7cd3dc56216",
       "version_major": 2,
       "version_minor": 0
      },
      "text/plain": [
       "Summarize dataset:   0%|          | 0/5 [00:00<?, ?it/s]"
      ]
     },
     "metadata": {},
     "output_type": "display_data"
    },
    {
     "data": {
      "application/vnd.jupyter.widget-view+json": {
       "model_id": "3c6c7ca4ffbb4dc2ae9d8bd76fe3718a",
       "version_major": 2,
       "version_minor": 0
      },
      "text/plain": [
       "Generate report structure:   0%|          | 0/1 [00:00<?, ?it/s]"
      ]
     },
     "metadata": {},
     "output_type": "display_data"
    },
    {
     "data": {
      "application/vnd.jupyter.widget-view+json": {
       "model_id": "ca4021073a9d4c849ed0a0f670f6b331",
       "version_major": 2,
       "version_minor": 0
      },
      "text/plain": [
       "Render HTML:   0%|          | 0/1 [00:00<?, ?it/s]"
      ]
     },
     "metadata": {},
     "output_type": "display_data"
    },
    {
     "name": "stderr",
     "output_type": "stream",
     "text": [
      "C:\\Users\\Hp\\anaconda3\\lib\\site-packages\\pandas_profiling\\profile_report.py:314: UserWarning: Extension  not supported. For now we assume .html was intended. To remove this warning, please use .html or .json.\n",
      "  warnings.warn(\n"
     ]
    },
    {
     "data": {
      "application/vnd.jupyter.widget-view+json": {
       "model_id": "c089bb733c204096ba5d0d87a495f596",
       "version_major": 2,
       "version_minor": 0
      },
      "text/plain": [
       "Export report to file:   0%|          | 0/1 [00:00<?, ?it/s]"
      ]
     },
     "metadata": {},
     "output_type": "display_data"
    }
   ],
   "source": [
    "#Utilisez le profilage pandas pour explorer l'ensemble de données. Vous pouvez utiliser la méthode pandas_profiling.ProfileReport() pour créer un rapport sur l'ensemble de données.\n",
    "\n",
    "import pandas as pd\n",
    "\n",
    "from pandas_profiling import ProfileReport\n",
    "\n",
    "# Read in the data\n",
    "adult_df = pd.read_csv('adult.csv')\n",
    "profile = ProfileReport(adult_df, title='Pandas Profiling Report', explorative=True)\n",
    "profile.to_file('rapport_PPcheckpoint')"
   ]
  },
  {
   "cell_type": "code",
   "execution_count": null,
   "id": "e92f3b34",
   "metadata": {},
   "outputs": [],
   "source": [
    "#Recherchez les valeurs manquantes dans l'ensemble de données. Vous pouvez utiliser le rapport généré par le profilage pandas pour identifier les valeurs manquantes.\n",
    "## Y'a pas de valeurs manquantes\n"
   ]
  },
  {
   "cell_type": "code",
   "execution_count": null,
   "id": "01e6bc75",
   "metadata": {},
   "outputs": [],
   "source": [
    "#Examinez les corrélations entre les différentes colonnes de l'ensemble de données. Vous pouvez utiliser le rapport généré par le profilage pandas pour identifier les corrélations.\n",
    "\n",
    "##educational-num est fortement corrélé globalement avec education\n",
    "\n",
    "##Le sexe est fortement corrélé à l’ensemble avec relationship\n"
   ]
  },
  {
   "cell_type": "code",
   "execution_count": null,
   "id": "419b334c",
   "metadata": {},
   "outputs": [],
   "source": [
    "#Identifiez tout autre modèle ou aperçu intéressant dans l'ensemble de données que vous pouvez découvrir grâce au rapport de profilage des pandas.\n",
    "\n",
    "## Pour la variable AGE\n",
    "### l'age moyenne est égale à 38.643585\n",
    "### Le kurtosis est négatif cela  indique une distribution relativement plate.On parle de distribution  platikurtique.\n",
    "###le Skewness est égal à 0.55758032 c'est positif,alors le dataset est skewed sur la droite. C'est à dire que la majorité des données se trouvent sur la gauche et les outliers se trouvent sur la droite.\n",
    "### l'ecart type est égal à 13.71051 qui est plus petit que la moyenne.L'étalement des valeurs autour de la moyenne est moins important dans le cas d'un ensemble de données dont l'écart-type est plus petit.\n",
    "###Q1=28 alors 25% des adultes ont un age inférieur à 28ans,Q3=48 alors 75% des adultes ont un age inférieur à 48ans\n",
    "\n",
    "##Pour la variable educational-num\n",
    "### La moyenne est égale à 10.078089\n",
    "###un kurtosis proche de zéro indique une distribution relativement aplatie pour une même variance. Si β2 < 3, on parlera de distribution platikurtique. \n",
    "###le Skewness est égal à -0.31652486 c'est négatif,alors la distribution poss`ede une forte queue vers la gauche\n",
    "### l'ecart type est égal à 2.5709728 qui est plus petit que la moyenne.L'étalement des valeurs autour de la moyenne est moins important dans le cas d'un ensemble de données dont l'écart-type est plus petit.\n",
    "\n",
    "## Pour la variable capital-gain\n",
    "### La moyenne est égale à 1079.0676\n",
    "###Un coefficient d'aplatissement positif indique une distribution avec un pic moins plat et des extrémités plus épaisses par rapport à la distribution normale. β2 > 3 de distribution leptokurtique . \n",
    "###le Skewness est égal à 11.894659 c'est positif,alors le dataset est skewed sur la droite. C'est à dire que la majorité des données se trouvent sur la gauche et les outliers se trouvent sur la droite.  \n",
    "### l'ecart type est égal à 7452.0191 qui est supérieur à moyenne.Plus l'écart-type est grand, plus les valeurs sont dispersées autour de la moyenne.\n",
    "\n",
    "## la variable capital-loss\n",
    "### La moyenne est égale à 87.502314\n",
    "###Un coefficient d'aplatissement positif indique une distribution avec un pic moins plat et des extrémités plus épaisses par rapport à la distribution normale.Si β2 > 3 de distribution leptokurtique. \n",
    "###le Skewness est égal à 4.5698089 c'est positif,alors le dataset est skewed sur la droite. C'est à dire que la majorité des données se trouvent sur la gauche et les outliers se trouvent sur la droite.  \n",
    "### l'ecart type est égal à 403.00455 qui est supérieur à moyenne.Plus l'écart-type est grand, plus les valeurs sont dispersées autour de la moyenne.\n",
    "\n",
    "#On remarque 66.8% des adultes sont des hommes.33.2% sont des femmes.\n",
    "# La race blancs domine les autres races avec une representation de 85.5%.\n"
   ]
  }
 ],
 "metadata": {
  "kernelspec": {
   "display_name": "Python 3 (ipykernel)",
   "language": "python",
   "name": "python3"
  },
  "language_info": {
   "codemirror_mode": {
    "name": "ipython",
    "version": 3
   },
   "file_extension": ".py",
   "mimetype": "text/x-python",
   "name": "python",
   "nbconvert_exporter": "python",
   "pygments_lexer": "ipython3",
   "version": "3.10.9"
  }
 },
 "nbformat": 4,
 "nbformat_minor": 5
}
