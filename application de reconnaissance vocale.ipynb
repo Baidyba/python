{
 "cells": [
  {
   "cell_type": "code",
   "execution_count": 3,
   "id": "aac207fc",
   "metadata": {},
   "outputs": [
    {
     "name": "stdout",
     "output_type": "stream",
     "text": [
      "Collecting SpeechRecognitionNote: you may need to restart the kernel to use updated packages.\n",
      "\n",
      "  Downloading SpeechRecognition-3.10.0-py2.py3-none-any.whl (32.8 MB)\n",
      "     ---------------------------------------- 32.8/32.8 MB 2.3 MB/s eta 0:00:00\n",
      "Requirement already satisfied: requests>=2.26.0 in c:\\users\\hp\\anaconda3\\lib\\site-packages (from SpeechRecognition) (2.28.1)\n",
      "Requirement already satisfied: urllib3<1.27,>=1.21.1 in c:\\users\\hp\\anaconda3\\lib\\site-packages (from requests>=2.26.0->SpeechRecognition) (1.26.14)\n",
      "Requirement already satisfied: charset-normalizer<3,>=2 in c:\\users\\hp\\anaconda3\\lib\\site-packages (from requests>=2.26.0->SpeechRecognition) (2.0.4)\n",
      "Requirement already satisfied: certifi>=2017.4.17 in c:\\users\\hp\\anaconda3\\lib\\site-packages (from requests>=2.26.0->SpeechRecognition) (2023.5.7)\n",
      "Requirement already satisfied: idna<4,>=2.5 in c:\\users\\hp\\anaconda3\\lib\\site-packages (from requests>=2.26.0->SpeechRecognition) (3.4)\n",
      "Installing collected packages: SpeechRecognition\n",
      "Successfully installed SpeechRecognition-3.10.0\n"
     ]
    }
   ],
   "source": [
    "pip install SpeechRecognition"
   ]
  },
  {
   "cell_type": "markdown",
   "id": "49e8621f",
   "metadata": {},
   "source": [
    "# Étape 1 :Importer les bibliothèques requises"
   ]
  },
  {
   "cell_type": "code",
   "execution_count": 4,
   "id": "1905225c",
   "metadata": {},
   "outputs": [],
   "source": [
    "import streamlit as st\n",
    "import speech_recognition as sr"
   ]
  },
  {
   "cell_type": "markdown",
   "id": "7bbf6693",
   "metadata": {},
   "source": [
    "# Étape 2: Définir la fonction de reconnaissance vocale"
   ]
  },
  {
   "cell_type": "code",
   "execution_count": 5,
   "id": "53373d60",
   "metadata": {},
   "outputs": [],
   "source": [
    "def transcribe_speech():\n",
    "    # Initialize recognizer class ##Initialisation de la classe de reconnaissance\n",
    "    r = sr.Recognizer()\n",
    "    # Reading Microphone as source ##Lecture Microphone comme source\n",
    "    with sr.Microphone() as source:\n",
    "        st.info(\"Speak now...\")\n",
    "        # listen for speech and store in audio_text variable ##écouter la parole et la stocker dans la variable audio_text\n",
    "        audio_text = r.listen(source)\n",
    "        st.info(\"Transcribing...\")\n",
    "\n",
    "        try:\n",
    "            # using Google Speech Recognition ###en utilisant la reconnaissance vocale de Google\n",
    "            text = r.recognize_google(audio_text)\n",
    "            return text\n",
    "        except:\n",
    "            return \"Sorry, I did not get that.\""
   ]
  },
  {
   "cell_type": "markdown",
   "id": "9548e4e0",
   "metadata": {},
   "source": [
    "# Étape 3:Définir la fonction principale\n"
   ]
  },
  {
   "cell_type": "code",
   "execution_count": 6,
   "id": "98b40b86",
   "metadata": {},
   "outputs": [
    {
     "name": "stderr",
     "output_type": "stream",
     "text": [
      "2023-07-10 17:49:05.681 \n",
      "  \u001b[33m\u001b[1mWarning:\u001b[0m to view this Streamlit app on a browser, run it with the following\n",
      "  command:\n",
      "\n",
      "    streamlit run C:\\Users\\Hp\\anaconda3\\lib\\site-packages\\ipykernel_launcher.py [ARGUMENTS]\n"
     ]
    }
   ],
   "source": [
    "def main():\n",
    "    st.title(\"Speech Recognition App\")\n",
    "    st.write(\"Click on the microphone to start speaking:\")\n",
    "\n",
    "    # add a button to trigger speech recognition ### ajouter un bouton pour déclencher la reconnaissance vocale\n",
    "    if st.button(\"Start Recording\"):\n",
    "        text = transcribe_speech()\n",
    "        st.write(\"Transcription: \", text)\n",
    "if __name__ == \"__main__\":\n",
    "    main()"
   ]
  },
  {
   "cell_type": "markdown",
   "id": "862c667f",
   "metadata": {},
   "source": [
    "# Améliorer l' application de reconnaissance vocale"
   ]
  },
  {
   "cell_type": "markdown",
   "id": "f39aeb28",
   "metadata": {},
   "source": [
    "Incluez une nouvelle option permettant aux utilisateurs de sélectionner l'API de reconnaissance vocale qu'ils souhaitent utiliser. En plus de Google Speech Recognition, envisagez d'autres API disponibles dans les bibliothèques fournies .\n",
    "\n",
    "Améliorez la gestion des erreurs dans la fonction transcribe_speech() pour fournir des messages d'erreur plus significatifs à l'utilisateur.\n",
    "\n",
    "Ajoutez une fonctionnalité pour permettre à l'utilisateur d'enregistrer le texte transcrit dans un fichier.\n",
    "\n",
    "Ajoutez une fonctionnalité pour permettre à l'utilisateur de choisir la langue dans laquelle il parle et configurez l'API de reconnaissance vocale pour utiliser cette langue.\n",
    "\n",
    "Ajoutez une fonctionnalité pour permettre à l'utilisateur de mettre en pause et de reprendre le processus de reconnaissance vocale."
   ]
  },
  {
   "cell_type": "code",
   "execution_count": null,
   "id": "a0c36515",
   "metadata": {},
   "outputs": [],
   "source": [
    "import streamlit as st\n",
    "import speech_recognition as sr\n",
    "\n",
    "def transcribe_speech(recognizer, audio_source, language=\"en-US\"):\n",
    "    try:\n",
    "        with audio_source as source:\n",
    "            recognizer.adjust_for_ambient_noise(source)\n",
    "            st.info(\"Speak now...\")\n",
    "            audio_text = recognizer.listen(source)\n",
    "            st.info(\"Transcribing...\")\n",
    "            text = recognizer.recognize_google(audio_text, language=language)\n",
    "            return text\n",
    "    except sr.RequestError:\n",
    "        return \"Sorry, the speech recognition service is currently unavailable.\"\n",
    "    except sr.UnknownValueError:\n",
    "        return \"Sorry, I could not understand what you said.\"\n",
    "\n",
    "def main():\n",
    "    st.title(\"Speech Recognition App\")\n",
    "    st.write(\"Click on the microphone to start speaking:\")\n",
    "\n",
    "    recognizer = sr.Recognizer()\n",
    "    selected_api = st.selectbox(\"Select Speech Recognition API\", [\"Google\", \"Microsoft\"])\n",
    "    if selected_api == \"Microsoft\":\n",
    "        recognizer = sr.Recognizer()\n",
    "        recognizer.energy_threshold = 4000\n",
    "\n",
    "    language = st.selectbox(\"Select Language\", [\"en-US\", \"fr-FR\"])\n",
    "\n",
    "    with sr.Microphone() as source:\n",
    "        if st.button(\"Start Recording\"):\n",
    "            text = transcribe_speech(recognizer, source, language=language)\n",
    "            st.write(\"Transcription: \", text)\n",
    "\n",
    "            if st.button(\"Save Transcription\"):\n",
    "                save_file(text)\n",
    "\n",
    "def save_file(text):\n",
    "    filename = st.text_input(\"Enter a filename:\")\n",
    "    if st.button(\"Save\"):\n",
    "        try:\n",
    "            with open(filename, \"w\") as file:\n",
    "                file.write(text)\n",
    "            st.success(f\"Transcription saved as {filename}\")\n",
    "        except Exception as e:\n",
    "            st.error(\"Error saving transcription.\")\n",
    "\n",
    "if __name__ == \"__main__\":\n",
    "    main()\n"
   ]
  }
 ],
 "metadata": {
  "kernelspec": {
   "display_name": "Python 3 (ipykernel)",
   "language": "python",
   "name": "python3"
  },
  "language_info": {
   "codemirror_mode": {
    "name": "ipython",
    "version": 3
   },
   "file_extension": ".py",
   "mimetype": "text/x-python",
   "name": "python",
   "nbconvert_exporter": "python",
   "pygments_lexer": "ipython3",
   "version": "3.10.9"
  }
 },
 "nbformat": 4,
 "nbformat_minor": 5
}
